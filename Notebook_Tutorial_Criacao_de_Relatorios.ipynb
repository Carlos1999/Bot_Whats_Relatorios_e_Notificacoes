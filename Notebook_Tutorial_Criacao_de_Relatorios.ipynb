{
 "cells": [
  {
   "cell_type": "markdown",
   "metadata": {},
   "source": [
    "# Tutorial Para Criação de Relatórios Dinâmicos Em PDF Através de Scripts Python"
   ]
  },
  {
   "cell_type": "markdown",
   "metadata": {},
   "source": [
    "## Bibliotecas Utilizadas:"
   ]
  },
  {
   "cell_type": "code",
   "execution_count": 1,
   "metadata": {},
   "outputs": [],
   "source": [
    "#Criado por Carlos Vinícius dos Santos (@Carlos1999)\n",
    "#imports\n",
    "import pandas as pd\n",
    "import pdfkit\n",
    "from datetime import datetime\n",
    "from pathlib import Path\n",
    "import os\n",
    "import seaborn as sns"
   ]
  },
  {
   "cell_type": "markdown",
   "metadata": {},
   "source": [
    "## Realizando a Leitura e filtragem de Dataset Para Usarmos Como Base do Relatório"
   ]
  },
  {
   "cell_type": "code",
   "execution_count": 2,
   "metadata": {},
   "outputs": [
    {
     "data": {
      "text/html": [
       "<div>\n",
       "<style scoped>\n",
       "    .dataframe tbody tr th:only-of-type {\n",
       "        vertical-align: middle;\n",
       "    }\n",
       "\n",
       "    .dataframe tbody tr th {\n",
       "        vertical-align: top;\n",
       "    }\n",
       "\n",
       "    .dataframe thead th {\n",
       "        text-align: right;\n",
       "    }\n",
       "</style>\n",
       "<table border=\"1\" class=\"dataframe\">\n",
       "  <thead>\n",
       "    <tr style=\"text-align: right;\">\n",
       "      <th></th>\n",
       "      <th>sepal_length</th>\n",
       "      <th>sepal_width</th>\n",
       "      <th>petal_length</th>\n",
       "      <th>petal_width</th>\n",
       "      <th>variety</th>\n",
       "    </tr>\n",
       "  </thead>\n",
       "  <tbody>\n",
       "    <tr>\n",
       "      <th>0</th>\n",
       "      <td>5.1</td>\n",
       "      <td>3.5</td>\n",
       "      <td>1.4</td>\n",
       "      <td>0.2</td>\n",
       "      <td>Setosa</td>\n",
       "    </tr>\n",
       "    <tr>\n",
       "      <th>1</th>\n",
       "      <td>4.9</td>\n",
       "      <td>3.0</td>\n",
       "      <td>1.4</td>\n",
       "      <td>0.2</td>\n",
       "      <td>Setosa</td>\n",
       "    </tr>\n",
       "    <tr>\n",
       "      <th>2</th>\n",
       "      <td>4.7</td>\n",
       "      <td>3.2</td>\n",
       "      <td>1.3</td>\n",
       "      <td>0.2</td>\n",
       "      <td>Setosa</td>\n",
       "    </tr>\n",
       "    <tr>\n",
       "      <th>3</th>\n",
       "      <td>4.6</td>\n",
       "      <td>3.1</td>\n",
       "      <td>1.5</td>\n",
       "      <td>0.2</td>\n",
       "      <td>Setosa</td>\n",
       "    </tr>\n",
       "  </tbody>\n",
       "</table>\n",
       "</div>"
      ],
      "text/plain": [
       "   sepal_length  sepal_width  petal_length  petal_width variety\n",
       "0           5.1          3.5           1.4          0.2  Setosa\n",
       "1           4.9          3.0           1.4          0.2  Setosa\n",
       "2           4.7          3.2           1.3          0.2  Setosa\n",
       "3           4.6          3.1           1.5          0.2  Setosa"
      ]
     },
     "execution_count": 2,
     "metadata": {},
     "output_type": "execute_result"
    }
   ],
   "source": [
    "# realizando leitura do csv com pandas armazenando em dataframe\n",
    "df_iris = pd.read_csv(\"Relatorios\\Dataset Iris Testes\\iris.csv\")\n",
    "# renomeando colunas para melhor manipulação no futuro\n",
    "df_iris.columns = [colum.replace(\".\",\"_\") for colum in list(df_iris.columns)]\n",
    "df_iris.head(4)\n",
    "\n"
   ]
  },
  {
   "cell_type": "code",
   "execution_count": 3,
   "metadata": {},
   "outputs": [],
   "source": [
    "# parâmetro para filtragem\n",
    "especie = \"Setosa\""
   ]
  },
  {
   "cell_type": "code",
   "execution_count": 4,
   "metadata": {},
   "outputs": [],
   "source": [
    "# filtra usando o parâmetro \n",
    "if(especie != \"\"):\n",
    "    df_iris = df_iris[df_iris.variety == especie]\n"
   ]
  },
  {
   "cell_type": "markdown",
   "metadata": {},
   "source": [
    "## Configuração do Relatório e Corpo Base"
   ]
  },
  {
   "cell_type": "code",
   "execution_count": 5,
   "metadata": {},
   "outputs": [],
   "source": [
    "# Local base de onde será salvo o relatório\n",
    "home = str(Path.home())\n",
    "\n",
    "#definições do PDF, page-size A4 paga o tamanho, Landscape para orientação horizontal e quiet para que não gere prints após a criação do relatório\n",
    "options={'page-size':'A4','orientation':'Landscape','quiet': ''}\n",
    "# local onde está salvo o .exe do criador de pdf\n",
    "path_wkhtmltopdf = r'C:\\Program Files\\wkhtmltopdf\\bin\\wkhtmltopdf.exe'\n",
    "# passando configuração para pdfkit\n",
    "config = pdfkit.configuration(wkhtmltopdf=path_wkhtmltopdf)\n",
    "path_bot = os.getcwd()\n",
    "# local onde está salvo o arquivo cssS\n",
    "css = ('./Relatorios/styles/style_tutorial.css')"
   ]
  },
  {
   "cell_type": "code",
   "execution_count": 6,
   "metadata": {},
   "outputs": [],
   "source": [
    "#  Cria Pasta ----------------------------------------------------------------------------------------------------------------------------------------------------------\n",
    "# cria a pasta onde será armazenado o relatório, usando a data de hoje como complemento do nome da pasta, para ser gerada uma pasta para cada dia, criando um log\n",
    "try:\n",
    "    data = datetime.now().date().strftime('%d-%m-%Y')\n",
    "    os.mkdir('./Relatorios/Relatorios/Relatorio_tutorial '+data)\n",
    "except Exception as e:\n",
    "    print(e)"
   ]
  },
  {
   "cell_type": "code",
   "execution_count": 7,
   "metadata": {},
   "outputs": [],
   "source": [
    "##layout base para pdf\n",
    "html = '''<!doctype html>\n",
    "        <html lang=\"ptbr\">\n",
    "        <head>\n",
    "            <title>Relatório </title>\n",
    "            <meta name=\"description\" content=\"Relatório \">\n",
    "            <meta name=\"author\" content=\"Carlos Vinícius\">\n",
    "            <meta charset=\"utf-8\">\n",
    "            \n",
    "        </head>\n",
    "        <body align='center'>'''\n",
    "\n",
    "resumo =  '''\n",
    "        <p id='texto'>{0}</p>\n",
    "        '''.format(\"TEXTO INICIAL PARA RELATÓRIO TUTORIAL <br> TEXTO INICIAL PARA RELATÓRIO TUTORIAL <br> TEXTO INICIAL PARA RELATÓRIO TUTORIAL <br> TEXTO INICIAL PARA RELATÓRIO TUTORIAL\")\n",
    "\n",
    "fim = \"<body></html>\""
   ]
  },
  {
   "cell_type": "markdown",
   "metadata": {},
   "source": [
    "## Conteúdo do Relatório"
   ]
  },
  {
   "cell_type": "markdown",
   "metadata": {},
   "source": [
    "### Inserindo Imagem no Relatório"
   ]
  },
  {
   "cell_type": "code",
   "execution_count": 8,
   "metadata": {},
   "outputs": [
    {
     "name": "stdout",
     "output_type": "stream",
     "text": [
      "Setosa    50\n",
      "Name: variety, dtype: int64\n"
     ]
    },
    {
     "data": {
      "image/png": "[encoded data removed]",
      "text/plain": [
       "<Figure size 432x288 with 1 Axes>"
      ]
     },
     "metadata": {},
     "output_type": "display_data"
    }
   ],
   "source": [
    "# Cria Gráfico simples para visualização dos dados e para ser inserido no relatório\n",
    "sns.set_theme(style=\"darkgrid\")\n",
    "print(df_iris.variety.value_counts())\n",
    "ax = sns.countplot(x=\"variety\", data=df_iris)\n",
    "caminho_imagem = r\"Relatorios\\figuras\\tutorial_grafico_countplot.png\"\n",
    "ax.get_figure().savefig(caminho_imagem,dpi = 300)\n",
    "\n",
    "caminho_absoluto_imagem = path_bot'\\\\'+caminho_imagem\n",
    "\n",
    "# Pega data para colocar no título\n",
    "data_titulo = datetime.now().strftime('%d/%m/%Y, AS %Hh%M')\n",
    "\n",
    "# criando html com a imagem\n",
    "imagem_countplot = f\"\"\" <div id = \"divTitulo\"> <p id = \"pTituloImagemCountplot\" > TITULO DA IMAGEM. DATA DA CONSULTA {data_titulo}</p> <img src='{caminho_absoluto_imagem}' id = 'imagem_countplot' alt='RN'> </div>\"\"\""
   ]
  },
  {
   "cell_type": "markdown",
   "metadata": {},
   "source": [
    "## Inserindo Tabela no Relatório"
   ]
  },
  {
   "cell_type": "code",
   "execution_count": 9,
   "metadata": {},
   "outputs": [],
   "source": [
    "# quebra de páginas entre imagem e tabela\n",
    "quebra_de_paginas = \"\"\"<div style = \"display:block; clear:both; page-break-after:always;\"></div>\"\"\"\n",
    "\n",
    "# Cria cabeçalho da tabela em HTML que será inserida no relatório\n",
    "tabela_1 = f\"\"\"<div id = \"divTitulo\" style = \"top:0px\"> <p id = \"pTitulo\" > TÍTULO DA TABELA. DATA DA CONSULTA {data_titulo}</p> </div> <table class=\"paleBlueRows\"  width=\"1300px\" ><thead> <th> Nº </th> <th width=\"200px\"> SEPAL LENGTH </th> <th > SEPAL WIDTH </th>  <th> PETAL LENGTH </th> <th > PETAL WIDTH </th>  <th > VARIETY </th>   </thead>\"\"\"\n",
    "contador = 1\n",
    "for row in df_iris.itertuples():\n",
    "    tabela_1 += f\"\"\" <tr> <td> {contador} </td> <td> {row.sepal_length} </td> <td> {row.sepal_width} </td> <td> {row.petal_length} </td> <td> {row.petal_width} </td> <td> {row.variety} </td> </tr>\"\"\"\n",
    "    contador += 1"
   ]
  },
  {
   "cell_type": "code",
   "execution_count": 10,
   "metadata": {},
   "outputs": [],
   "source": [
    "# Cria conteúdo da tabela\n",
    "tabela_1 += \"</table>\""
   ]
  },
  {
   "cell_type": "markdown",
   "metadata": {},
   "source": [
    "## Gerando PDF com a junção do Corpo Base Com o Conteúdo"
   ]
  },
  {
   "cell_type": "code",
   "execution_count": 11,
   "metadata": {},
   "outputs": [
    {
     "name": "stdout",
     "output_type": "stream",
     "text": [
      "Gerado corretamente!\n"
     ]
    }
   ],
   "source": [
    "# Gerando PDF juntando todos os HTML criados\n",
    "# O pdf será gerado nesse caminho\n",
    "caminho,arquivo = path_bot+f'\\\\Relatorios\\\\Relatorios\\\\Relatorio_tutorial {data}\\\\','relatório_tutorial.pdf'\n",
    "pdfkit.from_string(html+resumo+imagem_countplot+quebra_de_paginas+tabela_1+fim,caminho+arquivo,css=css,configuration=config,options=options)\n",
    "print(\"Gerado corretamente!\")\n",
    "# Retornando caminho e nome do arquivo para ser passado para o bot poder realizar o envio automático\n",
    "# return caminho,arquivo"
   ]
  }
 ],
 "metadata": {
  "interpreter": {
   "hash": "413327c66c65c5e25653b26a90720e706232376375fe49c00f5a244c5ca3abfb"
  },
  "kernelspec": {
   "display_name": "Python 3.9.1 64-bit",
   "name": "python3"
  },
  "language_info": {
   "codemirror_mode": {
    "name": "ipython",
    "version": 3
   },
   "file_extension": ".py",
   "mimetype": "text/x-python",
   "name": "python",
   "nbconvert_exporter": "python",
   "pygments_lexer": "ipython3",
   "version": "3.9.1"
  },
  "metadata": {
   "interpreter": {
    "hash": "9164a3399a70d355c381b62813f30880ed90ca5a6f321bf0d85375640bda7ee5"
   }
  }
 },
 "nbformat": 4,
 "nbformat_minor": 2
}
