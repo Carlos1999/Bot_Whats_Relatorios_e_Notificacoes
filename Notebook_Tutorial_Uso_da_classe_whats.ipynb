{
 "cells": [
  {
   "cell_type": "markdown",
   "metadata": {},
   "source": [
    "# Tutorial de Uso da classe_whats"
   ]
  },
  {
   "cell_type": "markdown",
   "metadata": {},
   "source": [
    "## Importando a classe_whats:"
   ]
  },
  {
   "cell_type": "code",
   "execution_count": null,
   "metadata": {},
   "outputs": [],
   "source": [
    "#Criado por Carlos Vinícius dos Santos (@Carlos1999)\n",
    "#imports\n",
    "from classe_whats import Zapbot"
   ]
  },
  {
   "cell_type": "markdown",
   "metadata": {},
   "source": [
    "## Criando uma Instancia da Classe e Iniciando Driver"
   ]
  },
  {
   "cell_type": "code",
   "execution_count": null,
   "metadata": {},
   "outputs": [],
   "source": [
    "# Parâmetro usar profile = False para que os testes possam ser realizados em sua conta pessoal, que não ficará salva após os testes serem finalizados\n",
    "# Quando a página do whats abrir, escaneie o QRCode com seu celular\n",
    "whats = Zapbot(usar_profile=False)"
   ]
  },
  {
   "cell_type": "markdown",
   "metadata": {},
   "source": [
    "## Testando Comandos da Basicos classe_whats "
   ]
  },
  {
   "cell_type": "code",
   "execution_count": null,
   "metadata": {},
   "outputs": [],
   "source": [
    "# Passe como parâmetro o nome do contato ou grupo que deseja que o bot abra a conversa\n",
    "whats.abre_conversa(\"Dados\")"
   ]
  },
  {
   "cell_type": "code",
   "execution_count": null,
   "metadata": {},
   "outputs": [],
   "source": [
    "# Passe como parâmetro qual a mensagem deve ser enviadas\n",
    "whats.envia_msg(\"Testando\")"
   ]
  },
  {
   "cell_type": "code",
   "execution_count": null,
   "metadata": {},
   "outputs": [],
   "source": [
    "# Verifica se existe alguma notificação, se houver ele abre aquela conversa\n",
    "whats.abre_notificacao()\n"
   ]
  },
  {
   "cell_type": "code",
   "execution_count": null,
   "metadata": {},
   "outputs": [],
   "source": [
    "# Lê ultima mensagem enviada \n",
    "print(whats.ultima_msg())"
   ]
  },
  {
   "cell_type": "code",
   "execution_count": null,
   "metadata": {},
   "outputs": [],
   "source": [
    "import os\n",
    "# envia arquivo para contato aberto no momento\n",
    "# definir caminho absonulo para arquivo\n",
    "caminho = os.getcwd() + \"\" # os.getcwd pega diretório absoluto até o local onde o python está executando o script\n",
    "# definir nome do arquivo\n",
    "arquivo = \"\"\n",
    "whats.envia_lista_arquivos(caminho,[arquivo])"
   ]
  },
  {
   "cell_type": "markdown",
   "metadata": {},
   "source": [
    "## Criando Respostas Automáticas"
   ]
  },
  {
   "cell_type": "code",
   "execution_count": null,
   "metadata": {},
   "outputs": [],
   "source": [
    "# Importando sleep para controlar tempo de cada iretação\n",
    "from time import sleep\n",
    "\n",
    "# abaixo um pequeno código para testar a leitura e envio de mensagens\n",
    "# condição que só irá finalizar caso entre no if que contem o break\n",
    "while(True):\n",
    "    # caso o contato que está aberto envie a mensagem \"Oi\" \n",
    "    if(whats.ultima_msg() == \"Oi\"):\n",
    "        # ele responderá com Olá\n",
    "        whats.envia_msg(\"Olá\")\n",
    "    elif(whats.ultima_msg() == \"arquivo\"):\n",
    "        whats.envia_lista_arquivos(caminho,[arquivo])\n",
    "    # caso o contato aberto envie \"pare\"\n",
    "    elif(whats.ultima_msg() == \"pare\"):\n",
    "        # irá indicar que parou e depois finalizar o loop com um brak\n",
    "        whats.envia_msg(\"parei\")\n",
    "        break\n",
    "    sleep(1)"
   ]
  },
  {
   "cell_type": "markdown",
   "metadata": {},
   "source": [
    "## Criando Notificações Automáticas"
   ]
  },
  {
   "cell_type": "code",
   "execution_count": null,
   "metadata": {},
   "outputs": [],
   "source": [
    "# importando biblioteca datetime para usarmos como evento gatilho\n",
    "from datetime import datetime\n",
    "# iniciando o último envio com o horário de agora\n",
    "ultimo_envio = datetime.now().strftime('DATA: %d/%m/%Y - HORA: %H:%M')\n",
    "while(True):\n",
    "    # a cada iteração do loop é obtida a hora naquele momento e armazenado na variável \"agora\"\n",
    "    agora = datetime.now().strftime('DATA: %d/%m/%Y - HORA: %H:%M')\n",
    "    # quando \"agora\" for diferente de \"ultimo_envio\" será armazenado em ultimo envio o horário de agora e será enviada uma notificação informando hora e data\n",
    "    # como a menor alteração possível é quando houver uma mudança nos minutos, a notificação será enviada a cada minuto\n",
    "    if(ultimo_envio != agora):\n",
    "        ultimo_envio = agora\n",
    "        whats.envia_msg(\"Notificação de horário:\\n\"+ agora)\n",
    "    sleep(1)\n",
    "    # print para que seja possível identificar se o código ainda está executando normalmente\n",
    "    print(\"\\r Executando... \",datetime.now(),end=\"\")"
   ]
  },
  {
   "cell_type": "markdown",
   "metadata": {},
   "source": [
    "## Prática"
   ]
  },
  {
   "cell_type": "code",
   "execution_count": null,
   "metadata": {},
   "outputs": [],
   "source": [
    "# pratique com os métodos da classe whats escrevendo seu próprio código"
   ]
  }
 ],
 "metadata": {
  "interpreter": {
   "hash": "413327c66c65c5e25653b26a90720e706232376375fe49c00f5a244c5ca3abfb"
  },
  "kernelspec": {
   "display_name": "Python 3.9.1 64-bit",
   "name": "python3"
  },
  "language_info": {
   "codemirror_mode": {
    "name": "ipython",
    "version": 3
   },
   "file_extension": ".py",
   "mimetype": "text/x-python",
   "name": "python",
   "nbconvert_exporter": "python",
   "pygments_lexer": "ipython3",
   "version": "3.9.4"
  },
  "metadata": {
   "interpreter": {
    "hash": "9164a3399a70d355c381b62813f30880ed90ca5a6f321bf0d85375640bda7ee5"
   }
  }
 },
 "nbformat": 4,
 "nbformat_minor": 2
}
